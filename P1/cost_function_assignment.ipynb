{
 "cells": [
  {
   "cell_type": "markdown",
   "metadata": {},
   "source": [
    "### Heuristic Models (Cost Function Extension)\n",
    "Look at the Seattle weather in the **data** folder. Come up with a heuristic model to predict if it will rain today. Keep in mind this is a time series, which means that you only know what happened historically (before a given date). One example of a heuristic model is: It will rain tomorrow if it rained more than 1 inch (>1.0 PRCP) today. Describe your heuristic model in the next cell."
   ]
  },
  {
   "cell_type": "markdown",
   "metadata": {},
   "source": [
    "**your model here**  \n",
    "\n",
    "Examples:  \n",
    "\n",
    "If rained yesterday it will rain today.  \n",
    "If it rained yesterday or the day before it will rain today."
   ]
  },
  {
   "cell_type": "code",
   "execution_count": 2,
   "metadata": {},
   "outputs": [],
   "source": [
    "#here is an example of how to build and populate a hurestic model\n",
    "\n",
    "import pandas as pd\n",
    "\n",
    "df = pd.read_csv('https://raw.githubusercontent.com/daniel-dc-cd/data_science/master/module_4_ML/data/seattle_weather_1948-2017.csv')\n",
    "\n",
    "numrows = 25549 # can be as large as 25549\n",
    "\n",
    "#create an empty dataframe to hold 100 values\n",
    "heuristic_df = pd.DataFrame({'yesterday':[0.0]*numrows,\n",
    "                             'today':[0.0]*numrows,\n",
    "                             'tomorrow':[0.0]*numrows,\n",
    "                             'guess':[False]*numrows, #logical guess\n",
    "                             'rain_tomorrow':[False]*numrows, #historical observation\n",
    "                             'correct':[False]*numrows, #TRUE if your guess matches the historical observation\n",
    "                             'true_positive':[False]*numrows, #TRUE If you said it would rain and it did\n",
    "                             'false_positive':[False]*numrows,#TRUE If you sait id would rain and it didn't\n",
    "                             'true_negative':[False]*numrows, #TRUE if you said it wouldn't rain and it didn't\n",
    "                             'false_negative':[False]*numrows}) #TRUE if you said it wouldn't raing and it did\n",
    "\n",
    "#sort columns for convience\n",
    "seq = ['yesterday',\n",
    "       'today',\n",
    "       'tomorrow',\n",
    "       'guess',\n",
    "       'rain_tomorrow',\n",
    "       'correct',\n",
    "       'true_positive',\n",
    "       'false_positive',\n",
    "       'true_negative',\n",
    "       'false_negative']\n",
    "heuristic_df = heuristic_df.reindex(columns=seq)"
   ]
  },
  {
   "cell_type": "code",
   "execution_count": 3,
   "metadata": {},
   "outputs": [
    {
     "data": {
      "text/html": [
       "<div>\n",
       "<style scoped>\n",
       "    .dataframe tbody tr th:only-of-type {\n",
       "        vertical-align: middle;\n",
       "    }\n",
       "\n",
       "    .dataframe tbody tr th {\n",
       "        vertical-align: top;\n",
       "    }\n",
       "\n",
       "    .dataframe thead th {\n",
       "        text-align: right;\n",
       "    }\n",
       "</style>\n",
       "<table border=\"1\" class=\"dataframe\">\n",
       "  <thead>\n",
       "    <tr style=\"text-align: right;\">\n",
       "      <th></th>\n",
       "      <th>DATE</th>\n",
       "      <th>PRCP</th>\n",
       "      <th>TMAX</th>\n",
       "      <th>TMIN</th>\n",
       "      <th>RAIN</th>\n",
       "    </tr>\n",
       "  </thead>\n",
       "  <tbody>\n",
       "    <tr>\n",
       "      <th>0</th>\n",
       "      <td>1948-01-01</td>\n",
       "      <td>0.47</td>\n",
       "      <td>51</td>\n",
       "      <td>42</td>\n",
       "      <td>True</td>\n",
       "    </tr>\n",
       "    <tr>\n",
       "      <th>1</th>\n",
       "      <td>1948-01-02</td>\n",
       "      <td>0.59</td>\n",
       "      <td>45</td>\n",
       "      <td>36</td>\n",
       "      <td>True</td>\n",
       "    </tr>\n",
       "    <tr>\n",
       "      <th>2</th>\n",
       "      <td>1948-01-03</td>\n",
       "      <td>0.42</td>\n",
       "      <td>45</td>\n",
       "      <td>35</td>\n",
       "      <td>True</td>\n",
       "    </tr>\n",
       "    <tr>\n",
       "      <th>3</th>\n",
       "      <td>1948-01-04</td>\n",
       "      <td>0.31</td>\n",
       "      <td>45</td>\n",
       "      <td>34</td>\n",
       "      <td>True</td>\n",
       "    </tr>\n",
       "    <tr>\n",
       "      <th>4</th>\n",
       "      <td>1948-01-05</td>\n",
       "      <td>0.17</td>\n",
       "      <td>45</td>\n",
       "      <td>32</td>\n",
       "      <td>True</td>\n",
       "    </tr>\n",
       "  </tbody>\n",
       "</table>\n",
       "</div>"
      ],
      "text/plain": [
       "         DATE  PRCP  TMAX  TMIN  RAIN\n",
       "0  1948-01-01  0.47    51    42  True\n",
       "1  1948-01-02  0.59    45    36  True\n",
       "2  1948-01-03  0.42    45    35  True\n",
       "3  1948-01-04  0.31    45    34  True\n",
       "4  1948-01-05  0.17    45    32  True"
      ]
     },
     "execution_count": 3,
     "metadata": {},
     "output_type": "execute_result"
    }
   ],
   "source": [
    "df.head()"
   ]
  },
  {
   "cell_type": "code",
   "execution_count": 4,
   "metadata": {},
   "outputs": [
    {
     "data": {
      "text/html": [
       "<div>\n",
       "<style scoped>\n",
       "    .dataframe tbody tr th:only-of-type {\n",
       "        vertical-align: middle;\n",
       "    }\n",
       "\n",
       "    .dataframe tbody tr th {\n",
       "        vertical-align: top;\n",
       "    }\n",
       "\n",
       "    .dataframe thead th {\n",
       "        text-align: right;\n",
       "    }\n",
       "</style>\n",
       "<table border=\"1\" class=\"dataframe\">\n",
       "  <thead>\n",
       "    <tr style=\"text-align: right;\">\n",
       "      <th></th>\n",
       "      <th>yesterday</th>\n",
       "      <th>today</th>\n",
       "      <th>tomorrow</th>\n",
       "      <th>guess</th>\n",
       "      <th>rain_tomorrow</th>\n",
       "      <th>correct</th>\n",
       "      <th>true_positive</th>\n",
       "      <th>false_positive</th>\n",
       "      <th>true_negative</th>\n",
       "      <th>false_negative</th>\n",
       "    </tr>\n",
       "  </thead>\n",
       "  <tbody>\n",
       "    <tr>\n",
       "      <th>0</th>\n",
       "      <td>0.0</td>\n",
       "      <td>0.0</td>\n",
       "      <td>0.0</td>\n",
       "      <td>False</td>\n",
       "      <td>False</td>\n",
       "      <td>False</td>\n",
       "      <td>False</td>\n",
       "      <td>False</td>\n",
       "      <td>False</td>\n",
       "      <td>False</td>\n",
       "    </tr>\n",
       "    <tr>\n",
       "      <th>1</th>\n",
       "      <td>0.0</td>\n",
       "      <td>0.0</td>\n",
       "      <td>0.0</td>\n",
       "      <td>False</td>\n",
       "      <td>False</td>\n",
       "      <td>False</td>\n",
       "      <td>False</td>\n",
       "      <td>False</td>\n",
       "      <td>False</td>\n",
       "      <td>False</td>\n",
       "    </tr>\n",
       "    <tr>\n",
       "      <th>2</th>\n",
       "      <td>0.0</td>\n",
       "      <td>0.0</td>\n",
       "      <td>0.0</td>\n",
       "      <td>False</td>\n",
       "      <td>False</td>\n",
       "      <td>False</td>\n",
       "      <td>False</td>\n",
       "      <td>False</td>\n",
       "      <td>False</td>\n",
       "      <td>False</td>\n",
       "    </tr>\n",
       "    <tr>\n",
       "      <th>3</th>\n",
       "      <td>0.0</td>\n",
       "      <td>0.0</td>\n",
       "      <td>0.0</td>\n",
       "      <td>False</td>\n",
       "      <td>False</td>\n",
       "      <td>False</td>\n",
       "      <td>False</td>\n",
       "      <td>False</td>\n",
       "      <td>False</td>\n",
       "      <td>False</td>\n",
       "    </tr>\n",
       "    <tr>\n",
       "      <th>4</th>\n",
       "      <td>0.0</td>\n",
       "      <td>0.0</td>\n",
       "      <td>0.0</td>\n",
       "      <td>False</td>\n",
       "      <td>False</td>\n",
       "      <td>False</td>\n",
       "      <td>False</td>\n",
       "      <td>False</td>\n",
       "      <td>False</td>\n",
       "      <td>False</td>\n",
       "    </tr>\n",
       "  </tbody>\n",
       "</table>\n",
       "</div>"
      ],
      "text/plain": [
       "   yesterday  today  tomorrow  guess  rain_tomorrow  correct  true_positive  \\\n",
       "0        0.0    0.0       0.0  False          False    False          False   \n",
       "1        0.0    0.0       0.0  False          False    False          False   \n",
       "2        0.0    0.0       0.0  False          False    False          False   \n",
       "3        0.0    0.0       0.0  False          False    False          False   \n",
       "4        0.0    0.0       0.0  False          False    False          False   \n",
       "\n",
       "   false_positive  true_negative  false_negative  \n",
       "0           False          False           False  \n",
       "1           False          False           False  \n",
       "2           False          False           False  \n",
       "3           False          False           False  \n",
       "4           False          False           False  "
      ]
     },
     "execution_count": 4,
     "metadata": {},
     "output_type": "execute_result"
    }
   ],
   "source": [
    "heuristic_df.head()"
   ]
  },
  {
   "cell_type": "markdown",
   "metadata": {},
   "source": [
    "Build a loop to add your heuristic model guesses as a column to this dataframe"
   ]
  },
  {
   "cell_type": "code",
   "execution_count": 5,
   "metadata": {},
   "outputs": [],
   "source": [
    "# here is an example loop that populates the dataframe created earlier\n",
    "# with the total percip from yesterday and today\n",
    "# then the guess is set to true if rained both yesterday and today \n",
    "for z in range(numrows):\n",
    "    #start at time 2 in the data frame\n",
    "    i = z + 2\n",
    "    #pull values from the dataframe\n",
    "    yesterday = df.iloc[(i-2),1]\n",
    "    today = df.iloc[(i-1),1]\n",
    "    tomorrow = df.iloc[i,1]\n",
    "    rain_tomorrow = df.iloc[(i),1]\n",
    "    \n",
    "    heuristic_df.iat[z,0] = yesterday\n",
    "    heuristic_df.iat[z,1] = today\n",
    "    heuristic_df.iat[z,2] = tomorrow\n",
    "    heuristic_df.iat[z,3] = False # set guess default to False\n",
    "    heuristic_df.iat[z,4] = rain_tomorrow\n",
    "    \n",
    "    #example hueristic\n",
    "    if today > 0.0 and yesterday > 0.0:\n",
    "        heuristic_df.iat[z,3] = True\n",
    "        \n",
    "    if heuristic_df.iat[z,3] == heuristic_df.iat[z,4]:\n",
    "        heuristic_df.iat[z,5] = True\n",
    "        if heuristic_df.iat[z,3] == True:\n",
    "            heuristic_df.iat[z,6] = True #true positive\n",
    "        else:\n",
    "            heuristic_df.iat[z,8] = True #true negative\n",
    "    else:\n",
    "        heuristic_df.iat[z,5] = False\n",
    "        if heuristic_df.iat[z,3] == True:\n",
    "            heuristic_df.iat[z,7] = True #false positive\n",
    "        else:\n",
    "            heuristic_df.iat[z,9] = True #false negative"
   ]
  },
  {
   "cell_type": "markdown",
   "metadata": {},
   "source": [
    "### Evaluate the performance of the Heuristic model"
   ]
  },
  {
   "cell_type": "markdown",
   "metadata": {},
   "source": [
    "***split data into training and testing***"
   ]
  },
  {
   "cell_type": "code",
   "execution_count": 11,
   "metadata": {},
   "outputs": [],
   "source": [
    "from sklearn.model_selection import train_test_split \n",
    "import warnings\n",
    "warnings.filterwarnings(\"ignore\", category=FutureWarning)\n",
    "\n",
    "# enter split function here to make h_train and h_test subsets of the data\n",
    "x=heuristic_df['rain_tomorrow']\n",
    "y=heuristic_df['correct']\n",
    "\n",
    "X_train, X_test, y_train, y_test = train_test_split(x, y, test_size=0.30, random_state=0)\n"
   ]
  },
  {
   "cell_type": "markdown",
   "metadata": {},
   "source": [
    "***the accuracy of your predicitions***"
   ]
  },
  {
   "cell_type": "code",
   "execution_count": 37,
   "metadata": {},
   "outputs": [
    {
     "data": {
      "text/plain": [
       "True     0.671611\n",
       "False    0.328389\n",
       "Name: correct, dtype: float64"
      ]
     },
     "execution_count": 37,
     "metadata": {},
     "output_type": "execute_result"
    }
   ],
   "source": [
    "# we used this simple approach in the first part to see what percent of the time we where correct \n",
    "# calculated as (true positive + true negative)/ number of guesses\n",
    "heuristic_df['correct'].value_counts()/numrows\n",
    "#tp=heuristic_df['true_positive']\n",
    "#tn=heuristic_df['true_negative']\n",
    "#g=len('guesses')\n",
    "#pr=tp+tn/g\n",
    "#pr"
   ]
  },
  {
   "cell_type": "markdown",
   "metadata": {},
   "source": [
    "***the precision of your predicitions***"
   ]
  },
  {
   "cell_type": "code",
   "execution_count": 33,
   "metadata": {},
   "outputs": [
    {
     "data": {
      "text/plain": [
       "0.5"
      ]
     },
     "execution_count": 33,
     "metadata": {},
     "output_type": "execute_result"
    }
   ],
   "source": [
    "# precision is the percent of your postive prediction which are correct\n",
    "# more specifically it is calculated (num true positive)/(num tru positive + num false positive)\n",
    "fp=heuristic_df['false_positive']\n",
    "pre=len(tp)/(len(tp)+len(fp))\n",
    "pre"
   ]
  },
  {
   "cell_type": "markdown",
   "metadata": {},
   "source": [
    "***the recall of your predicitions***"
   ]
  },
  {
   "cell_type": "code",
   "execution_count": 35,
   "metadata": {},
   "outputs": [
    {
     "data": {
      "text/plain": [
       "0.5"
      ]
     },
     "execution_count": 35,
     "metadata": {},
     "output_type": "execute_result"
    }
   ],
   "source": [
    "# recall the percent of the time you are correct when you predict positive\n",
    "# more specifically it is calculated (num true positive)/(num tru positive + num false negative)\n",
    "fn=heuristic_df['false_negative']\n",
    "re=len(tp)/(len(tp)+len(fn))\n",
    "re"
   ]
  },
  {
   "cell_type": "markdown",
   "metadata": {},
   "source": [
    "***The sum of squared error (SSE) of your predictions***"
   ]
  },
  {
   "cell_type": "code",
   "execution_count": null,
   "metadata": {},
   "outputs": [],
   "source": []
  }
 ],
 "metadata": {
  "kernelspec": {
   "display_name": "Python 3",
   "language": "python",
   "name": "python3"
  },
  "language_info": {
   "codemirror_mode": {
    "name": "ipython",
    "version": 3
   },
   "file_extension": ".py",
   "mimetype": "text/x-python",
   "name": "python",
   "nbconvert_exporter": "python",
   "pygments_lexer": "ipython3",
   "version": "3.7.6"
  }
 },
 "nbformat": 4,
 "nbformat_minor": 4
}
