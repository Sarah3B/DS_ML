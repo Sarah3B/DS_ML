{
 "cells": [
  {
   "cell_type": "markdown",
   "metadata": {},
   "source": [
    "## Loan Prediction Project using python\n",
    "\n",
    "The idea of the project to predict the loan approve according to the past information of the person by using binary classification problem. \n",
    "\n",
    "First, we need to import the libraries which needs in the project (pandas, numpy, matplotlib, seaborn, and sklearn libraries). \n",
    "\n",
    "Second, load and red the data, use head() function to show first 5 rows from the table, and learn more about the data by using info(), describe(), and shape(). This data contains 13 columns (Loan_ID, Gender, Married, Dependents, Education, Self_Employed, ApplicantIncome, CoapplicantIncome, LoanAmount, Loan_Amount_Term, Credit_History, Property_Area, and Loan_Status) and 614 rows.  \n",
    "\n",
    "Third, preprocessing: in this step will clean and prepare the data for exploratory data analysis and building the model. Loan data set contain missing value in Gender, Married, Dependents, Self_Employed, LoanAmount, Loan_Amount_Term, and Credit_History columns. Fill LoanAmount missing value with the mean of the column. Fill the Credit_History missing value with the median of the column. Drop the remining missing value from the remining columns. The new shape for the data (537, 13).\n",
    "\n",
    "Fourth, Exploratory data analysis (EDA): In this step will analyze data sets to summarize the main characteristics. Visualize Loan_Status by using pie, it comes with 69% have loan approve. More than 300 Males have loan approved and is it the highest number. More than 250 married have loan approve and is it the highest number. 300 graduated have loan approved. More than 300 Not self employed have a loan approved and it is the highest number. Semiurban people have the highest number from areas by more than 160 loan approved. Apply correlation matrix by using heat map. correlation matrix is a table showing correlation coefficients between variables. Each cell in the table shows the correlation between two variables. A correlation matrix is used to summarize data, as an input into a more advanced analysis, and as a diagnostic for advanced analyses. In correlation matrix defined Loan_Status is heavily dependent on the Credit_History.\n",
    "\n",
    "Fifth, Model Building: before build the model need to replace the variable values to continues or numeric form to avoids disturbances in building the model. When replace variable values to continues form will use LabelEncoder and OneHotEncoder to fit transform.\n",
    "Split the data into train and test data. X equal all the columns without the Loan_Status and Y equal the Loan_Status column. Split the data by using train_test_split() function. \n",
    "Build model by using logistic regression. Logistic regression is a statistical model that in its basic form uses a logistic function to model a binary dependent variable, although many more complex extensions exist. In regression analysis, logistic regression (or logit regression) is estimating the parameters of a logistic model (a form of binary regression).\n",
    "Get the accuracy score. Accuracy classification score is in multilabel classification, this function computes subset accuracy: the set of labels predicted for a sample must exactly match the corresponding set of labels in y_true. When apply the accuracy score it get 86%.\n",
    "\n",
    "### Summary\n",
    "•\tLoan_Status is heavily dependent on the Credit_History.\n",
    "\n",
    "•\tApply logistic regression with 86% accuracy.\n",
    "\n",
    " \n",
    "\n",
    "\n",
    "\n",
    " "
   ]
  },
  {
   "cell_type": "code",
   "execution_count": null,
   "metadata": {},
   "outputs": [],
   "source": []
  }
 ],
 "metadata": {
  "kernelspec": {
   "display_name": "Python 3",
   "language": "python",
   "name": "python3"
  },
  "language_info": {
   "codemirror_mode": {
    "name": "ipython",
    "version": 3
   },
   "file_extension": ".py",
   "mimetype": "text/x-python",
   "name": "python",
   "nbconvert_exporter": "python",
   "pygments_lexer": "ipython3",
   "version": "3.7.6"
  }
 },
 "nbformat": 4,
 "nbformat_minor": 4
}
